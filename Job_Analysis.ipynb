{
 "cells": [
  {
   "cell_type": "code",
   "execution_count": 190,
   "metadata": {
    "collapsed": true
   },
   "outputs": [],
   "source": [
    "import pandas as pd\n",
    "from collections import Counter\n",
    "import matplotlib.pyplot as plt\n",
    "import matplotlib.patches as mpatches\n",
    "import seaborn as sns\n",
    "from ipywidgets import interactive, interact\n",
    "from wordcloud import wordcloud\n",
    "from IPython.display import display, clear_output\n",
    "import os\n",
    "import numpy as np\n",
    "%matplotlib inline"
   ]
  },
  {
   "cell_type": "code",
   "execution_count": 45,
   "metadata": {
    "collapsed": false
   },
   "outputs": [],
   "source": [
    "title = \"Data Scientist\"\n",
    "DATA_PATH = r\"C:\\Users\\Colin\\Documents\\Analytics 903\\Job_Scraper\"\n",
    "file_names = [name for name in os.listdir(DATA_PATH) if name.endswith('.csv')]"
   ]
  },
  {
   "cell_type": "code",
   "execution_count": 44,
   "metadata": {
    "collapsed": false
   },
   "outputs": [
    {
     "data": {
      "text/plain": [
       "['Data_Scientist_Atlanta_GA_Job_Report.csv',\n",
       " 'Data_Scientist_Boston_MA_Job_Report.csv',\n",
       " 'Data_Scientist_Chicago_IL_Job_Report.csv',\n",
       " 'Data_Scientist_Dallas_TX_Job_Report.csv',\n",
       " 'Data_Scientist_Orlando_FL_Job_Report.csv',\n",
       " 'Data_Scientist_Raleigh_NC_Job_Report.csv',\n",
       " 'Data_Scientist_San_Francisco_CA_Job_Report.csv',\n",
       " 'Data_Scientist_Seattle_WA_Job_Report.csv']"
      ]
     },
     "execution_count": 44,
     "metadata": {},
     "output_type": "execute_result"
    }
   ],
   "source": [
    "file_names"
   ]
  },
  {
   "cell_type": "code",
   "execution_count": 51,
   "metadata": {
    "collapsed": true
   },
   "outputs": [],
   "source": [
    "stop_words = [\"Job\", \"Report.csv\"] + title.split()"
   ]
  },
  {
   "cell_type": "code",
   "execution_count": 52,
   "metadata": {
    "collapsed": true
   },
   "outputs": [],
   "source": [
    "def extract_city(file_name):\n",
    "    split_name = file_name.split(\"_\")\n",
    "    return \" \".join([name for name in split_name if name not in stop_words])"
   ]
  },
  {
   "cell_type": "code",
   "execution_count": 53,
   "metadata": {
    "collapsed": true
   },
   "outputs": [],
   "source": [
    "city_names = [extract_city(name) for name in file_names]"
   ]
  },
  {
   "cell_type": "code",
   "execution_count": 54,
   "metadata": {
    "collapsed": false
   },
   "outputs": [
    {
     "data": {
      "text/plain": [
       "['Atlanta GA',\n",
       " 'Boston MA',\n",
       " 'Chicago IL',\n",
       " 'Dallas TX',\n",
       " 'Orlando FL',\n",
       " 'Raleigh NC',\n",
       " 'San Francisco CA',\n",
       " 'Seattle WA']"
      ]
     },
     "execution_count": 54,
     "metadata": {},
     "output_type": "execute_result"
    }
   ],
   "source": [
    "city_names"
   ]
  },
  {
   "cell_type": "code",
   "execution_count": 55,
   "metadata": {
    "collapsed": true
   },
   "outputs": [],
   "source": [
    "dict_df = {name:pd.read_csv(file) for name, file in zip(city_names, file_names)}"
   ]
  },
  {
   "cell_type": "code",
   "execution_count": 73,
   "metadata": {
    "collapsed": false
   },
   "outputs": [
    {
     "name": "stdout",
     "output_type": "stream",
     "text": [
      "City: Dallas TX Has length: 97\n",
      "City: Boston MA Has length: 99\n",
      "City: Seattle WA Has length: 97\n",
      "City: Atlanta GA Has length: 99\n",
      "City: San Francisco CA Has length: 98\n",
      "City: Raleigh NC Has length: 99\n",
      "City: Orlando FL Has length: 61\n",
      "City: Chicago IL Has length: 99\n"
     ]
    }
   ],
   "source": [
    "for key, value in dict_df.items():\n",
    "    print(\"City: {} Has length: {}\".format(key, len(value)))"
   ]
  },
  {
   "cell_type": "code",
   "execution_count": 62,
   "metadata": {
    "collapsed": false
   },
   "outputs": [
    {
     "name": "stdout",
     "output_type": "stream",
     "text": [
      "Key:  Dallas TX\n",
      "DataFrame head: \n"
     ]
    },
    {
     "data": {
      "text/html": [
       "<div>\n",
       "<table border=\"1\" class=\"dataframe\">\n",
       "  <thead>\n",
       "    <tr style=\"text-align: right;\">\n",
       "      <th></th>\n",
       "      <th>Job_Title</th>\n",
       "      <th>Company</th>\n",
       "      <th>Location</th>\n",
       "      <th>Date_Posted</th>\n",
       "      <th>Link</th>\n",
       "      <th>Text</th>\n",
       "      <th>Python</th>\n",
       "      <th>R</th>\n",
       "      <th>SAS</th>\n",
       "      <th>Hadoop</th>\n",
       "      <th>...</th>\n",
       "      <th>Consulting</th>\n",
       "      <th>D3</th>\n",
       "      <th>Hive</th>\n",
       "      <th>Pig</th>\n",
       "      <th>MySQL</th>\n",
       "      <th>ggplot</th>\n",
       "      <th>Scala</th>\n",
       "      <th>C</th>\n",
       "      <th>Bash</th>\n",
       "      <th>Neural Nets</th>\n",
       "    </tr>\n",
       "  </thead>\n",
       "  <tbody>\n",
       "    <tr>\n",
       "      <th>0</th>\n",
       "      <td>Data Scientist - ITC</td>\n",
       "      <td>Ind-US Target LLC</td>\n",
       "      <td>Dallas, TX 75201 (City Center District area)</td>\n",
       "      <td>6 days ago</td>\n",
       "      <td>https://www.indeed.com/rc/clk?jk=844f47d42e4b9...</td>\n",
       "      <td>guest\\r\\n {text}\\r\\n {text}\\r\\ndata scientist ...</td>\n",
       "      <td>0</td>\n",
       "      <td>0</td>\n",
       "      <td>0</td>\n",
       "      <td>0</td>\n",
       "      <td>...</td>\n",
       "      <td>0</td>\n",
       "      <td>0</td>\n",
       "      <td>0</td>\n",
       "      <td>0</td>\n",
       "      <td>0</td>\n",
       "      <td>0</td>\n",
       "      <td>0</td>\n",
       "      <td>0</td>\n",
       "      <td>0</td>\n",
       "      <td>0</td>\n",
       "    </tr>\n",
       "    <tr>\n",
       "      <th>1</th>\n",
       "      <td>Data Scientist Intern</td>\n",
       "      <td>Hotels.com</td>\n",
       "      <td>Dallas, TX 75240 (Far North area)</td>\n",
       "      <td>4 days ago</td>\n",
       "      <td>https://www.indeed.com/rc/clk?jk=cee5efa96f591...</td>\n",
       "      <td>NaN</td>\n",
       "      <td>0</td>\n",
       "      <td>0</td>\n",
       "      <td>0</td>\n",
       "      <td>0</td>\n",
       "      <td>...</td>\n",
       "      <td>0</td>\n",
       "      <td>0</td>\n",
       "      <td>0</td>\n",
       "      <td>0</td>\n",
       "      <td>0</td>\n",
       "      <td>0</td>\n",
       "      <td>0</td>\n",
       "      <td>0</td>\n",
       "      <td>0</td>\n",
       "      <td>0</td>\n",
       "    </tr>\n",
       "    <tr>\n",
       "      <th>2</th>\n",
       "      <td>Senior Data Scientist</td>\n",
       "      <td>Sabre</td>\n",
       "      <td>Dallas-Fort Worth, TX</td>\n",
       "      <td>18 days ago</td>\n",
       "      <td>https://www.indeed.com/rc/clk?jk=a97ecf0a533d3...</td>\n",
       "      <td>home\\r\\n &gt;&gt; \\r\\ncareers\\r\\n\\r\\n\\r\\n\\r\\n\\r\\n\\r\\...</td>\n",
       "      <td>0</td>\n",
       "      <td>0</td>\n",
       "      <td>0</td>\n",
       "      <td>0</td>\n",
       "      <td>...</td>\n",
       "      <td>0</td>\n",
       "      <td>0</td>\n",
       "      <td>0</td>\n",
       "      <td>0</td>\n",
       "      <td>0</td>\n",
       "      <td>0</td>\n",
       "      <td>0</td>\n",
       "      <td>0</td>\n",
       "      <td>0</td>\n",
       "      <td>0</td>\n",
       "    </tr>\n",
       "    <tr>\n",
       "      <th>3</th>\n",
       "      <td>Data Scientist (EPIC Social Media Analytics Co...</td>\n",
       "      <td>Thousand Hills Holdings LLC</td>\n",
       "      <td>Frisco, TX 75033</td>\n",
       "      <td>2 days ago</td>\n",
       "      <td>https://www.indeed.com/company/Thousand-Hills-...</td>\n",
       "      <td>seeking a data scientist to own the scoring pl...</td>\n",
       "      <td>0</td>\n",
       "      <td>0</td>\n",
       "      <td>0</td>\n",
       "      <td>0</td>\n",
       "      <td>...</td>\n",
       "      <td>0</td>\n",
       "      <td>0</td>\n",
       "      <td>0</td>\n",
       "      <td>0</td>\n",
       "      <td>0</td>\n",
       "      <td>0</td>\n",
       "      <td>0</td>\n",
       "      <td>0</td>\n",
       "      <td>0</td>\n",
       "      <td>0</td>\n",
       "    </tr>\n",
       "    <tr>\n",
       "      <th>4</th>\n",
       "      <td>Data Scientist</td>\n",
       "      <td>CBRE</td>\n",
       "      <td>Dallas, TX</td>\n",
       "      <td>9 days ago</td>\n",
       "      <td>https://www.indeed.com/rc/clk?jk=eb9c0c4c86198...</td>\n",
       "      <td>settings\\r\\ndescription / opportunity\\r\\nthe r...</td>\n",
       "      <td>0</td>\n",
       "      <td>1</td>\n",
       "      <td>1</td>\n",
       "      <td>0</td>\n",
       "      <td>...</td>\n",
       "      <td>1</td>\n",
       "      <td>0</td>\n",
       "      <td>0</td>\n",
       "      <td>0</td>\n",
       "      <td>0</td>\n",
       "      <td>0</td>\n",
       "      <td>0</td>\n",
       "      <td>0</td>\n",
       "      <td>0</td>\n",
       "      <td>0</td>\n",
       "    </tr>\n",
       "  </tbody>\n",
       "</table>\n",
       "<p>5 rows × 36 columns</p>\n",
       "</div>"
      ],
      "text/plain": [
       "                                           Job_Title  \\\n",
       "0                               Data Scientist - ITC   \n",
       "1                              Data Scientist Intern   \n",
       "2                              Senior Data Scientist   \n",
       "3  Data Scientist (EPIC Social Media Analytics Co...   \n",
       "4                                     Data Scientist   \n",
       "\n",
       "                       Company                                      Location  \\\n",
       "0            Ind-US Target LLC  Dallas, TX 75201 (City Center District area)   \n",
       "1                   Hotels.com             Dallas, TX 75240 (Far North area)   \n",
       "2                        Sabre                         Dallas-Fort Worth, TX   \n",
       "3  Thousand Hills Holdings LLC                              Frisco, TX 75033   \n",
       "4                         CBRE                                    Dallas, TX   \n",
       "\n",
       "   Date_Posted                                               Link  \\\n",
       "0   6 days ago  https://www.indeed.com/rc/clk?jk=844f47d42e4b9...   \n",
       "1   4 days ago  https://www.indeed.com/rc/clk?jk=cee5efa96f591...   \n",
       "2  18 days ago  https://www.indeed.com/rc/clk?jk=a97ecf0a533d3...   \n",
       "3   2 days ago  https://www.indeed.com/company/Thousand-Hills-...   \n",
       "4   9 days ago  https://www.indeed.com/rc/clk?jk=eb9c0c4c86198...   \n",
       "\n",
       "                                                Text   Python    R    SAS   \\\n",
       "0  guest\\r\\n {text}\\r\\n {text}\\r\\ndata scientist ...         0    0      0   \n",
       "1                                                NaN         0    0      0   \n",
       "2  home\\r\\n >> \\r\\ncareers\\r\\n\\r\\n\\r\\n\\r\\n\\r\\n\\r\\...         0    0      0   \n",
       "3  seeking a data scientist to own the scoring pl...         0    0      0   \n",
       "4  settings\\r\\ndescription / opportunity\\r\\nthe r...         0    1      1   \n",
       "\n",
       "    Hadoop       ...         Consulting    D3    Hive    Pig    MySQL   \\\n",
       "0         0      ...                   0     0       0      0        0   \n",
       "1         0      ...                   0     0       0      0        0   \n",
       "2         0      ...                   0     0       0      0        0   \n",
       "3         0      ...                   0     0       0      0        0   \n",
       "4         0      ...                   1     0       0      0        0   \n",
       "\n",
       "    ggplot    Scala    C    Bash    Neural Nets   \n",
       "0         0        0    0       0              0  \n",
       "1         0        0    0       0              0  \n",
       "2         0        0    0       0              0  \n",
       "3         0        0    0       0              0  \n",
       "4         0        0    0       0              0  \n",
       "\n",
       "[5 rows x 36 columns]"
      ]
     },
     "execution_count": 62,
     "metadata": {},
     "output_type": "execute_result"
    }
   ],
   "source": [
    "print(\"Key: \", list(dict_df.keys())[0])\n",
    "print(\"DataFrame head: \")\n",
    "list(dict_df.values())[0].head()"
   ]
  },
  {
   "cell_type": "code",
   "execution_count": 204,
   "metadata": {
    "collapsed": false
   },
   "outputs": [
    {
     "data": {
      "image/png": "[encoded data removed]",
      "text/plain": [
       "<matplotlib.figure.Figure at 0xf6647b8>"
      ]
     },
     "metadata": {},
     "output_type": "display_data"
    }
   ],
   "source": [
    "city_list = city_names + [\"All\"]\n",
    "@interact\n",
    "def plot_job_skills(city=city_list):\n",
    "    \n",
    "    plt.figure(figsize=(8,8))\n",
    "    patches = []\n",
    "    \n",
    "    if city == \"All\":\n",
    "        for color, df, name in zip(sns.color_palette(\"hls\", 8), dict_df.values(), dict_df.keys()):\n",
    "            for i, column in enumerate(df.columns[6:]):\n",
    "                plt.scatter(i, sum(df[column] > 0), color=color)\n",
    "            plt.xticks(range(len(df.columns[6:])), df.columns[6:], rotation=90);\n",
    "\n",
    "            patch = mpatches.Patch(color=color, label=name)\n",
    "            patches.append(patch)\n",
    "            plt.xlim([-1, len(df.columns[6:])])\n",
    "        plt.ylim(ymin=0)\n",
    "        plt.legend(handles=patches)\n",
    "        plt.title(\"Skills Across Cities\")\n",
    "    else:\n",
    "        df = dict_df[city]\n",
    "        for i, column in enumerate(df.columns[6:]):\n",
    "            plt.scatter(i, sum(df[column] > 0))\n",
    "        plt.xlim([-1, len(df.columns[6:])])\n",
    "        plt.xticks(range(len(df.columns[6:])), df.columns[6:], rotation=90);\n",
    "        plt.title(\"Skills for {}\".format(city))\n",
    "    plt.xlabel(\"Skill\")\n",
    "    plt.ylabel(\"Count\")"
   ]
  },
  {
   "cell_type": "code",
   "execution_count": 198,
   "metadata": {
    "collapsed": false
   },
   "outputs": [
    {
     "data": {
      "image/png": "[encoded data removed]",
      "text/plain": [
       "<matplotlib.figure.Figure at 0xe3b8d68>"
      ]
     },
     "metadata": {},
     "output_type": "display_data"
    }
   ],
   "source": [
    "skill_list = list(list(dict_df.values())[0].columns[6:])\n",
    "@interact\n",
    "def plot_skill_by_city(skill=skill_list):\n",
    "    \n",
    "    height = [sum(df[skill] > 0) for df in dict_df.values()]\n",
    "    plt.bar(np.arange(0, len(dict_df.keys())), height, color=sns.color_palette(\"hls\", 8))\n",
    "    plt.xticks(np.arange(.5, len(dict_df.keys()), 1), dict_df.keys(), rotation=90)\n",
    "    plt.title(\"{} vs. Cities\".format(skill))\n",
    "    plt.xlabel(\"City\")\n",
    "    plt.ylabel(\"Count\")\n",
    "    \n",
    "    "
   ]
  },
  {
   "cell_type": "code",
   "execution_count": 180,
   "metadata": {
    "collapsed": false
   },
   "outputs": [
    {
     "name": "stdout",
     "output_type": "stream",
     "text": [
      "Line(S) in Job Description Containing Machine Learning :\n",
      "\n",
      "do you ever daydream about a job that allows you to exercise your creativity and data science expertise by building a bunch of cool projects  datarobot labs (a research group within datarobot) is hiring a data scientist to showcase the capabilities of our machine learning platform \r\n",
      "\n",
      "end-to-end experience building and deploying machine learning applications\r\n"
     ]
    }
   ],
   "source": [
    "company_list = ['Company1']\n",
    "job_list = ['Job1']\n",
    "\n",
    "\n",
    "def get_text(text, term):\n",
    "    \n",
    "    relevant_text = []\n",
    "    for line in text.split('\\n'):\n",
    "        if term.lower() in line:\n",
    "            relevant_text.append(line)\n",
    "    return relevant_text\n",
    "\n",
    "\n",
    "company_dropdown = interactive(None, company=company_list)\n",
    "job_dropdown = interactive(None, company=job_list)\n",
    "\n",
    "        \n",
    "@interact\n",
    "def get_wordcloud(city_name=city_names, skill=skill_list):\n",
    "    \n",
    "    global company_dropdown, job_dropdown\n",
    "    \n",
    "    company_df = dict_df[city_name][dict_df[city_name][skill] > 0]\n",
    "    company_list = company_df.Company.tolist()\n",
    "    \n",
    "    def get_companies(company):\n",
    "        global job_dropdown\n",
    "        \n",
    "        print(city_name, skill, company)\n",
    "        city_df = company_df.copy()#dict_df[city_name]\n",
    "        df = city_df[city_df.Company == company]\n",
    "        job_list = df.Job_Title.tolist()\n",
    "        \n",
    "        def get_jobs(Job_Title):\n",
    "            \n",
    "            text = get_text(df[df.Job_Title == Job_Title].iloc[0].Text, skill)\n",
    "            print(\"Line(S) in Job Description Containing{}:\\n\\n{}\".format(skill, '\\n\\n'.join(text)))\n",
    "        \n",
    "        job_dropdown.close()\n",
    "        job_dropdown = interactive(get_jobs, Job_Title=job_list)\n",
    "        display(job_dropdown)\n",
    "    \n",
    "    company_dropdown.close()\n",
    "    company_dropdown = interactive(get_companies, company=company_list)\n",
    "    display(company_dropdown)"
   ]
  },
  {
   "cell_type": "code",
   "execution_count": null,
   "metadata": {
    "collapsed": true
   },
   "outputs": [],
   "source": []
  }
 ],
 "metadata": {
  "kernelspec": {
   "display_name": "Python [default]",
   "language": "python",
   "name": "python3"
  },
  "language_info": {
   "codemirror_mode": {
    "name": "ipython",
    "version": 3
   },
   "file_extension": ".py",
   "mimetype": "text/x-python",
   "name": "python",
   "nbconvert_exporter": "python",
   "pygments_lexer": "ipython3",
   "version": "3.5.2"
  },
  "widgets": {
   "state": {
    "05f1cb7838874fd4b0db5d3a50ffd9c9": {
     "views": [
      {
       "cell_index": 12
      }
     ]
    },
    "08f29699e7d749fbb5addfcb366f139f": {
     "views": [
      {
       "cell_index": 12
      }
     ]
    },
    "0a0abbff515049f7a064b2ae4e80b374": {
     "views": [
      {
       "cell_index": 11
      }
     ]
    },
    "0bed7edc81fc46c5be6ca136d6da240e": {
     "views": [
      {
       "cell_index": 12
      }
     ]
    },
    "0bf16e526c2043ae8ef76c0a849f0d59": {
     "views": [
      {
       "cell_index": 12
      }
     ]
    },
    "0c2203d7a0664eed8861819a7c51a1e2": {
     "views": [
      {
       "cell_index": 12
      }
     ]
    },
    "0d6b9d57160941a5831d8ba3beb70eaa": {
     "views": [
      {
       "cell_index": 11
      }
     ]
    },
    "13c65134ab4643379617e042d9b03da2": {
     "views": [
      {
       "cell_index": 12
      }
     ]
    },
    "2818df3b509440abad7fe32890a18789": {
     "views": [
      {
       "cell_index": 12
      }
     ]
    },
    "289f567c65cf4387916aafa549c39006": {
     "views": [
      {
       "cell_index": 12
      }
     ]
    },
    "29c37ae197f147969d1753eb262fa756": {
     "views": [
      {
       "cell_index": 12
      }
     ]
    },
    "2b0cdee053fd45658b0b9eb5e8fa083e": {
     "views": [
      {
       "cell_index": 12
      }
     ]
    },
    "37f6f6ffdd2c4f688984ac187d721f0e": {
     "views": [
      {
       "cell_index": 12
      }
     ]
    },
    "3842e094cb8b4d18bd54d3cbc6ef553e": {
     "views": [
      {
       "cell_index": 12
      }
     ]
    },
    "3b9788f69b8841faa24dd3601751c438": {
     "views": [
      {
       "cell_index": 12
      }
     ]
    },
    "43f6d6457f484e12b28916cd60f95f4f": {
     "views": [
      {
       "cell_index": 12
      }
     ]
    },
    "4bf4700095f745c98cba15f80b228992": {
     "views": [
      {
       "cell_index": 15
      }
     ]
    },
    "4d1b2d4743914c5c90c817ba083de7b6": {
     "views": [
      {
       "cell_index": 12
      }
     ]
    },
    "557860f5b47b421484cef9a5686717e2": {
     "views": [
      {
       "cell_index": 12
      }
     ]
    },
    "5d71a1c45f94469d9770c9b94a850fe6": {
     "views": [
      {
       "cell_index": 12
      }
     ]
    },
    "6bc4ed3822ae421eae5867c89371eb9f": {
     "views": [
      {
       "cell_index": 12
      }
     ]
    },
    "75b69acfeb2a4faea0d046d4945ee23b": {
     "views": [
      {
       "cell_index": 12
      }
     ]
    },
    "8a39870ad8b54b518bbf3a52b5d0da77": {
     "views": [
      {
       "cell_index": 12
      }
     ]
    },
    "8c405422bfaf49cf908163822e2af459": {
     "views": [
      {
       "cell_index": 12
      }
     ]
    },
    "8f60d10555d3468f9985eeaccc8d45f6": {
     "views": [
      {
       "cell_index": 12
      }
     ]
    },
    "90844ec6f79f4d60b564b0ee470e5a21": {
     "views": [
      {
       "cell_index": 12
      }
     ]
    },
    "94f06187dea6437683e97b845e38ac91": {
     "views": [
      {
       "cell_index": 12
      }
     ]
    },
    "9ed94929d50f4b539ffc3b16606812c5": {
     "views": [
      {
       "cell_index": 12
      }
     ]
    },
    "a1ed2549be0b4e59a01e1cf0bff4f4f3": {
     "views": [
      {
       "cell_index": 12
      }
     ]
    },
    "af4f60037ff543a59bbece023a61be4d": {
     "views": [
      {
       "cell_index": 12
      }
     ]
    },
    "b2c5eccd89d4457292dc587f37447074": {
     "views": [
      {
       "cell_index": 10
      }
     ]
    },
    "b980a0724d3b45b0991ff715e521a3ca": {
     "views": [
      {
       "cell_index": 12
      }
     ]
    },
    "ba9fb2123298458dae9b211ca27c5065": {
     "views": [
      {
       "cell_index": 12
      }
     ]
    },
    "bacadac30fe4415b8f9f3295815987d4": {
     "views": [
      {
       "cell_index": 12
      }
     ]
    },
    "cfbe5ef39905497d88ec0545542ae3e1": {
     "views": [
      {
       "cell_index": 12
      }
     ]
    },
    "d25f3c4d72bf4d0d93d1befe26d145cd": {
     "views": [
      {
       "cell_index": 12
      }
     ]
    },
    "d4e9acaf33f3480698deb95effd711b5": {
     "views": [
      {
       "cell_index": 12
      }
     ]
    },
    "d908f1d1768f442490295ddadb1830b7": {
     "views": [
      {
       "cell_index": 12
      }
     ]
    },
    "e17228a4c4104da8866f74b724fb40a0": {
     "views": [
      {
       "cell_index": 12
      }
     ]
    },
    "edee44d6dd6448e293f9da6934bde16d": {
     "views": [
      {
       "cell_index": 12
      }
     ]
    },
    "f500f4ab517d4d76a8fba23007af06e9": {
     "views": [
      {
       "cell_index": 12
      }
     ]
    }
   },
   "version": "1.2.0"
  }
 },
 "nbformat": 4,
 "nbformat_minor": 1
}
